{
 "cells": [
  {
   "cell_type": "markdown",
   "metadata": {},
   "source": [
    "### Homework: going neural (20 pts)\n",
    "\n",
    "We've checked out statistical approaches to language models in the last notebook. Now let's go find out what deep learning has to offer.\n",
    "\n",
    "We're gonna use the same dataset as before, except this time we build a language model that's character-level, not word level. Before you go:\n",
    "Download the data."
   ]
  },
  {
   "cell_type": "code",
   "execution_count": 8,
   "metadata": {},
   "outputs": [],
   "source": [
    "import numpy as np\n",
    "import pandas as pd\n",
    "import matplotlib.pyplot as plt\n",
    "%matplotlib inline"
   ]
  },
  {
   "cell_type": "markdown",
   "metadata": {},
   "source": [
    "Working on character level means that we don't need to deal with large vocabulary or missing words. Heck, we can even keep uppercase words in text! The downside, however, is that all our sequences just got a lot longer.\n",
    "\n",
    "However, we still need special tokens:\n",
    "* Begin Of Sequence  (__BOS__) - this token is at the start of each sequence. We use it so that we always have non-empty input to our neural network. $P(x_t) = P(x_1 | BOS)$\n",
    "* End Of Sequence (__EOS__) - you guess it... this token is at the end of each sequence. The catch is that it should __not__ occur anywhere else except at the very end. If our model produces this token, the sequence is over.\n"
   ]
  },
  {
   "cell_type": "code",
   "execution_count": 9,
   "metadata": {},
   "outputs": [
    {
     "name": "stdout",
     "output_type": "stream",
     "text": [
      "x arxivData.json\n"
     ]
    }
   ],
   "source": [
    "!tar -xvzf arxivData.json.tar.gz"
   ]
  },
  {
   "cell_type": "code",
   "execution_count": 10,
   "metadata": {},
   "outputs": [],
   "source": [
    "BOS, EOS = ' ', '\\n'\n",
    "\n",
    "data = pd.read_json(\"./arxivData.json\")\n",
    "lines = data.apply(lambda row: (row['title'] + ' ; ' + row['summary'])[:512], axis=1) \\\n",
    "            .apply(lambda line: BOS + line.replace(EOS, ' ') + EOS) \\\n",
    "            .tolist()"
   ]
  },
  {
   "cell_type": "markdown",
   "metadata": {},
   "source": [
    "Our next step is __building char-level vocabulary__. Put simply, you need to assemble a list of all unique tokens in the dataset."
   ]
  },
  {
   "cell_type": "code",
   "execution_count": 11,
   "metadata": {},
   "outputs": [
    {
     "name": "stdout",
     "output_type": "stream",
     "text": [
      "n_tokens =  136\n"
     ]
    }
   ],
   "source": [
    "\n",
    "tokens = sorted(set(\"\".join(lines)) | {BOS, EOS})\n",
    "n_tokens = len(tokens)\n",
    "\n",
    "tokens = sorted(tokens)\n",
    "n_tokens = len(tokens)\n",
    "print ('n_tokens = ',n_tokens)\n",
    "assert 100 < n_tokens < 150\n",
    "assert BOS in tokens, EOS in tokens"
   ]
  },
  {
   "cell_type": "markdown",
   "metadata": {},
   "source": [
    "We can now assign each character with its index in tokens list. This way we can encode a string into a torch-friendly integer vector."
   ]
  },
  {
   "cell_type": "code",
   "execution_count": 12,
   "metadata": {},
   "outputs": [
    {
     "name": "stdout",
     "output_type": "stream",
     "text": [
      "{'\\n': 0, ' ': 1, '!': 2, '\"': 3, '#': 4, '$': 5, '%': 6, '&': 7, \"'\": 8, '(': 9, ')': 10, '*': 11, '+': 12, ',': 13, '-': 14, '.': 15, '/': 16, '0': 17, '1': 18, '2': 19, '3': 20, '4': 21, '5': 22, '6': 23, '7': 24, '8': 25, '9': 26, ':': 27, ';': 28, '<': 29, '=': 30, '>': 31, '?': 32, '@': 33, 'A': 34, 'B': 35, 'C': 36, 'D': 37, 'E': 38, 'F': 39, 'G': 40, 'H': 41, 'I': 42, 'J': 43, 'K': 44, 'L': 45, 'M': 46, 'N': 47, 'O': 48, 'P': 49, 'Q': 50, 'R': 51, 'S': 52, 'T': 53, 'U': 54, 'V': 55, 'W': 56, 'X': 57, 'Y': 58, 'Z': 59, '[': 60, '\\\\': 61, ']': 62, '^': 63, '_': 64, '`': 65, 'a': 66, 'b': 67, 'c': 68, 'd': 69, 'e': 70, 'f': 71, 'g': 72, 'h': 73, 'i': 74, 'j': 75, 'k': 76, 'l': 77, 'm': 78, 'n': 79, 'o': 80, 'p': 81, 'q': 82, 'r': 83, 's': 84, 't': 85, 'u': 86, 'v': 87, 'w': 88, 'x': 89, 'y': 90, 'z': 91, '{': 92, '|': 93, '}': 94, '~': 95, '\\x7f': 96, '°': 97, 'É': 98, 'Ö': 99, 'Ü': 100, 'à': 101, 'á': 102, 'â': 103, 'ã': 104, 'ä': 105, 'æ': 106, 'ç': 107, 'è': 108, 'é': 109, 'ê': 110, 'í': 111, 'ï': 112, 'ó': 113, 'ô': 114, 'õ': 115, 'ö': 116, 'ü': 117, 'Ł': 118, 'ő': 119, 'ś': 120, 'Π': 121, 'Σ': 122, 'Ω': 123, 'α': 124, 'β': 125, 'γ': 126, 'ε': 127, 'λ': 128, 'μ': 129, 'ν': 130, 'ρ': 131, 'σ': 132, 'τ': 133, 'χ': 134, 'ω': 135}\n"
     ]
    }
   ],
   "source": [
    "\n",
    "token_to_id = {token: idx for idx, token in enumerate(tokens)}\n",
    "print(token_to_id)\n"
   ]
  },
  {
   "cell_type": "code",
   "execution_count": 13,
   "metadata": {},
   "outputs": [
    {
     "name": "stdout",
     "output_type": "stream",
     "text": [
      "Seems alright!\n"
     ]
    }
   ],
   "source": [
    "assert len(tokens) == len(token_to_id), \"dictionaries must have same size\"\n",
    "for i in range(n_tokens):\n",
    "    assert token_to_id[tokens[i]] == i, \"token identifier must be it's position in tokens list\"\n",
    "\n",
    "print(\"Seems alright!\")"
   ]
  },
  {
   "cell_type": "markdown",
   "metadata": {},
   "source": [
    "Our final step is to assemble several strings in a integer matrix with shape `[batch_size, text_length]`. \n",
    "\n",
    "The only problem is that each sequence has a different length. We can work around that by padding short sequences with extra `\"EOS\"` tokens or cropping long sequences. Here's how it works:"
   ]
  },
  {
   "cell_type": "code",
   "execution_count": 14,
   "metadata": {},
   "outputs": [],
   "source": [
    "def to_matrix(lines, max_len=None, pad=token_to_id[EOS], dtype=np.int64):\n",
    "    \"\"\"Casts a list of lines into torch-digestable matrix\"\"\"\n",
    "    max_len = max_len or max(map(len, lines))\n",
    "    lines_ix = np.full([len(lines), max_len], pad, dtype=dtype)\n",
    "    for i in range(len(lines)):\n",
    "        line_ix = list(map(token_to_id.get, lines[i][:max_len]))\n",
    "        lines_ix[i, :len(line_ix)] = line_ix\n",
    "    return lines_ix"
   ]
  },
  {
   "cell_type": "code",
   "execution_count": 15,
   "metadata": {},
   "outputs": [
    {
     "name": "stdout",
     "output_type": "stream",
     "text": [
      "[[ 1 66 67 68  0  0  0  0  0  0  0  0  0  0  0]\n",
      " [ 1 66 67 66 68 66 67 66  0  0  0  0  0  0  0]\n",
      " [ 1 66 67 68 18 19 20 21 22 23 24 25 26 17  0]]\n"
     ]
    }
   ],
   "source": [
    "#Example: cast 4 random names to a single matrix, pad with zeros where needed.\n",
    "dummy_lines = [\n",
    "    ' abc\\n',\n",
    "    ' abacaba\\n',\n",
    "    ' abc1234567890\\n',\n",
    "]\n",
    "print(to_matrix(dummy_lines))\n",
    "\n"
   ]
  },
  {
   "cell_type": "markdown",
   "metadata": {},
   "source": [
    "### Neural Language Model (6 points including training)\n",
    "\n",
    "Just like for N-gram LMs, we want to estimate probability of text as a joint probability of tokens (symbols this time).\n",
    "\n",
    "$$P(X) = \\prod_t P(x_t \\mid x_0, \\dots, x_{t-1}).$$ \n",
    "\n",
    "Instead of counting all possible statistics, we want to train a neural network with parameters $\\theta$ that estimates the conditional probabilities:\n",
    "\n",
    "$$ P(x_t \\mid x_0, \\dots, x_{t-1}) \\approx p(x_t \\mid x_0, \\dots, x_{t-1}, \\theta) $$\n",
    "\n",
    "\n",
    "But before we optimize, we need to define our neural network. Let's start with a fixed-window (aka convolutional) architecture:\n",
    "\n",
    "<img src='https://raw.githubusercontent.com/yandexdataschool/nlp_course/master/resources/fixed_window_lm.jpg' width=400px>\n"
   ]
  },
  {
   "cell_type": "code",
   "execution_count": 16,
   "metadata": {},
   "outputs": [],
   "source": [
    "import torch\n",
    "import torch.nn as nn\n",
    "import torch.nn.functional as F"
   ]
  },
  {
   "cell_type": "code",
   "execution_count": 17,
   "metadata": {},
   "outputs": [],
   "source": [
    "class FixedWindowLanguageModel(nn.Module):\n",
    "    def __init__(self, n_tokens=n_tokens, emb_size=16, hid_size=64):\n",
    "        super().__init__()\n",
    "        self.emb = nn.Embedding(n_tokens, emb_size)\n",
    "        self.pad = nn.ZeroPad2d((4, 0, 0, 0))  \n",
    "        self.conv = nn.Conv1d(in_channels=emb_size, out_channels=hid_size, kernel_size=5)\n",
    "        self.fc = nn.Linear(hid_size, n_tokens)\n",
    "\n",
    "    def __call__(self, input_ix):\n",
    "        x = self.emb(input_ix)\n",
    "        x = x.permute(0, 2, 1)\n",
    "        x = self.pad(x)  \n",
    "        x = self.conv(x)  \n",
    "        x = x.permute(0, 2, 1)\n",
    "        logits = self.fc(x) \n",
    "        return logits\n",
    "\n",
    "    def get_possible_next_tokens(self, prefix=BOS, temperature=1.0, max_len=100):\n",
    "        \"\"\" :returns: probabilities of next token, dict {token : prob} for all tokens \"\"\"\n",
    "        prefix_ix = torch.as_tensor(to_matrix([prefix]), dtype=torch.int64)\n",
    "        with torch.no_grad():\n",
    "            logits = self.__call__(prefix_ix)[0, -1]  \n",
    "            probs = torch.softmax(logits / temperature, dim=-1).cpu().numpy() \n",
    "        return dict(zip(tokens, probs))\n"
   ]
  },
  {
   "cell_type": "code",
   "execution_count": 18,
   "metadata": {},
   "outputs": [
    {
     "name": "stdout",
     "output_type": "stream",
     "text": [
      "Weights: (('emb.weight', Parameter containing:\n",
      "tensor([[-0.0240, -1.0993,  0.1615,  ...,  0.1557,  0.8936,  1.8368],\n",
      "        [ 1.6783, -1.4227,  1.0485,  ..., -0.0290,  1.0666,  0.1127],\n",
      "        [-0.3138, -0.4533,  0.0163,  ..., -0.3833, -0.7158, -0.4749],\n",
      "        ...,\n",
      "        [ 0.2807, -0.4542, -0.3820,  ...,  0.5855, -0.4627, -0.1527],\n",
      "        [-1.7710,  0.4188, -1.0808,  ..., -0.2809,  1.2485, -1.1911],\n",
      "        [ 0.5256, -0.4775, -1.5245,  ..., -1.7372, -0.3133, -0.4838]],\n",
      "       requires_grad=True)), ('conv.weight', Parameter containing:\n",
      "tensor([[[ 0.0648,  0.0302,  0.0519, -0.0494,  0.0203],\n",
      "         [-0.0862, -0.0223, -0.0383,  0.1068,  0.1101],\n",
      "         [-0.0437,  0.0471,  0.0028, -0.0445,  0.0474],\n",
      "         ...,\n",
      "         [ 0.0791, -0.0496, -0.0656, -0.0514,  0.0850],\n",
      "         [ 0.0715,  0.0744,  0.0926,  0.0079, -0.1024],\n",
      "         [ 0.0635, -0.1080,  0.0583, -0.0916,  0.1109]],\n",
      "\n",
      "        [[-0.0296, -0.0715, -0.0681, -0.0050,  0.1004],\n",
      "         [ 0.0653, -0.0821, -0.0746,  0.0787,  0.0048],\n",
      "         [ 0.0649,  0.0131,  0.0428, -0.0511,  0.1011],\n",
      "         ...,\n",
      "         [ 0.0885,  0.0039, -0.1003, -0.1014, -0.0954],\n",
      "         [-0.0637, -0.0176,  0.0367, -0.0449, -0.0453],\n",
      "         [ 0.1058, -0.0293, -0.0782,  0.0903,  0.0343]],\n",
      "\n",
      "        [[-0.1048,  0.0645,  0.0608, -0.0690,  0.0696],\n",
      "         [-0.0195,  0.0672, -0.0653,  0.0982, -0.0042],\n",
      "         [ 0.0567,  0.0417,  0.0518,  0.0885, -0.0595],\n",
      "         ...,\n",
      "         [ 0.0700, -0.0986,  0.0795,  0.0116, -0.0850],\n",
      "         [ 0.0125, -0.1089,  0.0616,  0.0261, -0.0308],\n",
      "         [ 0.0928,  0.0155,  0.0867, -0.0217,  0.0504]],\n",
      "\n",
      "        ...,\n",
      "\n",
      "        [[-0.0969,  0.1093, -0.0152, -0.1076, -0.0718],\n",
      "         [-0.0209,  0.0126,  0.0103,  0.0168, -0.0634],\n",
      "         [-0.0786, -0.0008, -0.0809, -0.1008,  0.0049],\n",
      "         ...,\n",
      "         [-0.0250,  0.0531,  0.0595,  0.0767, -0.0995],\n",
      "         [-0.1008, -0.0538,  0.0261, -0.0583,  0.0455],\n",
      "         [ 0.0088, -0.0931,  0.0259,  0.0319, -0.0824]],\n",
      "\n",
      "        [[ 0.0004, -0.0004,  0.0409,  0.0702,  0.0864],\n",
      "         [ 0.0757,  0.0983,  0.0076,  0.0419, -0.0043],\n",
      "         [ 0.0024,  0.0119,  0.0958,  0.0100, -0.0940],\n",
      "         ...,\n",
      "         [ 0.0556, -0.0498,  0.0084,  0.0066, -0.1038],\n",
      "         [ 0.0249,  0.0437,  0.0617,  0.1117,  0.0179],\n",
      "         [-0.0126, -0.0525, -0.0468,  0.1066, -0.0293]],\n",
      "\n",
      "        [[-0.0062, -0.0947,  0.0398,  0.1064, -0.1116],\n",
      "         [-0.0980,  0.0291, -0.0820,  0.0935, -0.0518],\n",
      "         [ 0.0074,  0.1038, -0.0114,  0.0203, -0.0015],\n",
      "         ...,\n",
      "         [ 0.0806, -0.0496, -0.0455, -0.1098,  0.0691],\n",
      "         [-0.0388, -0.0091, -0.1062,  0.0205, -0.0636],\n",
      "         [ 0.1010, -0.0637,  0.0033,  0.0664, -0.0366]]], requires_grad=True)), ('conv.bias', Parameter containing:\n",
      "tensor([-0.0238, -0.0215, -0.1099,  0.0599,  0.0397,  0.0660, -0.0002, -0.0908,\n",
      "        -0.1053, -0.0227,  0.0234,  0.0179,  0.0774,  0.0696, -0.0165,  0.0129,\n",
      "         0.0243, -0.1075,  0.1038, -0.1010, -0.0437, -0.0274,  0.0346,  0.0648,\n",
      "         0.0033,  0.0880, -0.0631,  0.0626,  0.0931,  0.0822,  0.0497, -0.1115,\n",
      "         0.0237,  0.1049,  0.0698, -0.0874, -0.0086,  0.1043, -0.0787, -0.0269,\n",
      "        -0.0717, -0.0868,  0.1109, -0.0891, -0.1094, -0.0122, -0.0681,  0.0353,\n",
      "         0.0713,  0.0325, -0.0735,  0.0056, -0.0882, -0.0710,  0.0910,  0.0497,\n",
      "         0.0693, -0.1081,  0.0846, -0.0602,  0.0860,  0.0124,  0.0522,  0.0475],\n",
      "       requires_grad=True)), ('fc.weight', Parameter containing:\n",
      "tensor([[ 0.0703,  0.0935,  0.0638,  ..., -0.0800,  0.0181, -0.0376],\n",
      "        [ 0.0238,  0.1129, -0.0806,  ...,  0.0485, -0.0209, -0.0219],\n",
      "        [ 0.0077,  0.0273, -0.0803,  ..., -0.0373, -0.0945, -0.0562],\n",
      "        ...,\n",
      "        [-0.0846,  0.0142, -0.0691,  ...,  0.0220, -0.0959, -0.1150],\n",
      "        [ 0.0573, -0.1245, -0.1097,  ..., -0.1161, -0.0698,  0.0124],\n",
      "        [-0.1122, -0.0354, -0.1204,  ..., -0.0207,  0.0342, -0.1049]],\n",
      "       requires_grad=True)), ('fc.bias', Parameter containing:\n",
      "tensor([ 0.0780, -0.0783, -0.0236, -0.0681, -0.0918, -0.0271, -0.0579,  0.0169,\n",
      "        -0.0820, -0.0721,  0.0811, -0.0567,  0.0800,  0.0204, -0.0924, -0.0021,\n",
      "        -0.0005,  0.0379, -0.0505, -0.0882, -0.0088, -0.0929, -0.0231, -0.0250,\n",
      "         0.1184,  0.0994, -0.0848,  0.1162, -0.0906,  0.1075, -0.0920,  0.1140,\n",
      "         0.0895,  0.0858,  0.0401,  0.1197, -0.0548,  0.1062,  0.1227, -0.0853,\n",
      "        -0.0206, -0.1151,  0.0467,  0.0006,  0.0629, -0.0770,  0.0320,  0.0153,\n",
      "         0.0239, -0.0431,  0.0898, -0.0154,  0.0394, -0.0709,  0.0169,  0.0834,\n",
      "        -0.0504, -0.0030, -0.0720,  0.0857,  0.0458,  0.0311, -0.0527,  0.0542,\n",
      "         0.0198,  0.0574, -0.0992,  0.0980, -0.1031,  0.0476, -0.0363, -0.0698,\n",
      "         0.0707, -0.0274, -0.0185,  0.0332,  0.0639, -0.1038, -0.0230, -0.1141,\n",
      "        -0.0171, -0.1232, -0.0178, -0.1010, -0.0496,  0.1191,  0.0235,  0.0860,\n",
      "         0.0424, -0.0283,  0.0245, -0.0887,  0.0643,  0.0141, -0.0494,  0.0099,\n",
      "         0.0494, -0.0637,  0.0258,  0.1171, -0.0083, -0.1046, -0.0622,  0.1149,\n",
      "        -0.0666, -0.0849, -0.0160,  0.0933,  0.1091, -0.1169,  0.1113, -0.1114,\n",
      "        -0.1015, -0.0321, -0.1237,  0.1076, -0.0480, -0.0528, -0.0733,  0.0438,\n",
      "        -0.0174, -0.1065,  0.0515,  0.0484,  0.0214,  0.0988, -0.0964, -0.0417,\n",
      "        -0.0807, -0.0956,  0.0965, -0.0153, -0.0494,  0.0713, -0.0567, -0.0335],\n",
      "       requires_grad=True)))\n"
     ]
    }
   ],
   "source": [
    "n_tokens = 136\n",
    "dummy_model = FixedWindowLanguageModel(n_tokens=n_tokens)\n",
    "dummy_input_ix = torch.as_tensor(to_matrix(dummy_lines))\n",
    "dummy_logits = dummy_model(dummy_input_ix)\n",
    "print(\"Weights:\", tuple((name, w) for name, w in dummy_model.named_parameters()))"
   ]
  },
  {
   "cell_type": "code",
   "execution_count": 19,
   "metadata": {},
   "outputs": [],
   "source": [
    "assert isinstance(dummy_logits, torch.Tensor)\n",
    "assert dummy_logits.shape == (\n",
    "    len(dummy_lines),\n",
    "    max(map(len, dummy_lines)),\n",
    "    n_tokens,\n",
    "), f\"Output shape mismatch: got {dummy_logits.shape}, expected {(len(dummy_lines), max(map(len, dummy_lines)), n_tokens)}\"\n",
    "assert np.all(np.isfinite(dummy_logits.data.cpu().numpy())), \"inf/nan encountered\"\n",
    "assert not np.allclose(dummy_logits.data.cpu().numpy().sum(-1), 1), \"please predict linear outputs, don't use softmax\"\n"
   ]
  },
  {
   "cell_type": "code",
   "execution_count": 20,
   "metadata": {},
   "outputs": [],
   "source": [
    "\n",
    "dummy_input_ix_2 = torch.as_tensor(to_matrix([line[:3] + 'e' * (len(line) - 3) for line in dummy_lines]))\n",
    "dummy_logits_2 = dummy_model(dummy_input_ix_2)\n",
    "\n",
    "assert torch.allclose(dummy_logits[:, :3], dummy_logits_2[:, :3]), \"your model's predictions depend on FUTURE tokens. \" \\\n",
    "    \" Make sure you don't allow any layers to look ahead of current token.\" \\\n",
    "    \" You can also get this error if your model is not deterministic (e.g. dropout). Disable it for this test.\""
   ]
  },
  {
   "cell_type": "markdown",
   "metadata": {},
   "source": [
    "We can now tune our network's parameters to minimize categorical crossentropy over training dataset $D$:\n",
    "\n",
    "$$ L = {\\frac1{|D|}} \\sum_{X \\in D} \\sum_{x_i \\in X} - \\log p(x_t \\mid x_1, \\dots, x_{t-1}, \\theta) $$\n",
    "\n",
    "As usual with with neural nets, this optimization is performed via stochastic gradient descent with backprop.  One can also note that minimizing crossentropy is equivalent to minimizing model __perplexity__, KL-divergence or maximizng log-likelihood."
   ]
  },
  {
   "cell_type": "code",
   "execution_count": 21,
   "metadata": {},
   "outputs": [
    {
     "name": "stdout",
     "output_type": "stream",
     "text": [
      "matrix:\n",
      " [[ 1 66 67 68  0  0  0  0  0  0  0  0  0  0  0]\n",
      " [ 1 66 67 66 68 66 67 66  0  0  0  0  0  0  0]\n",
      " [ 1 66 67 68 18 19 20 21 22 23 24 25 26 17  0]]\n",
      "mask: [[1 1 1 1 1 0 0 0 0 0 0 0 0 0 0]\n",
      " [1 1 1 1 1 1 1 1 1 0 0 0 0 0 0]\n",
      " [1 1 1 1 1 1 1 1 1 1 1 1 1 1 1]]\n",
      "lengths: [ 5  9 15]\n"
     ]
    }
   ],
   "source": [
    "def compute_mask(input_ix, eos_ix=token_to_id[EOS]):\n",
    "    \"\"\" compute a boolean mask that equals \"1\" until first EOS (including that EOS) \"\"\"\n",
    "    return F.pad(torch.cumsum(input_ix == eos_ix, dim=-1)[..., :-1] < 1, pad=(1, 0, 0, 0), value=True)\n",
    "\n",
    "print('matrix:\\n', dummy_input_ix.numpy())\n",
    "print('mask:', compute_mask(dummy_input_ix).to(torch.int32).cpu().numpy())\n",
    "print('lengths:', compute_mask(dummy_input_ix).sum(-1).cpu().numpy())"
   ]
  },
  {
   "cell_type": "code",
   "execution_count": 22,
   "metadata": {},
   "outputs": [],
   "source": [
    "def compute_loss(model, input_ix):\n",
    "    input_ix = torch.as_tensor(input_ix, dtype=torch.int64)  \n",
    "    logits = model(input_ix[:, :-1])  \n",
    "    reference_answers = input_ix[:, 1:]  \n",
    "    mask = compute_mask(reference_answers)  \n",
    "\n",
    "    # Вычисляем логарифмы вероятностей\n",
    "    log_probs = F.log_softmax(logits, dim=-1)\n",
    "    log_probs_flat = log_probs.view(-1, log_probs.shape[-1])  \n",
    "    reference_answers_flat = reference_answers.view(-1) \n",
    "    mask_flat = mask.view(-1) \n",
    "    loss = F.nll_loss(\n",
    "        log_probs_flat[mask_flat],  \n",
    "        reference_answers_flat[mask_flat],  \n",
    "        reduction='mean'  \n",
    "    )\n",
    "    \n",
    "    return loss\n"
   ]
  },
  {
   "cell_type": "code",
   "execution_count": 23,
   "metadata": {},
   "outputs": [],
   "source": [
    "loss_1 = compute_loss(dummy_model, to_matrix(dummy_lines, max_len=15))\n",
    "loss_2 = compute_loss(dummy_model, to_matrix(dummy_lines, max_len=16))\n",
    "assert (np.ndim(loss_1) == 0) and (0 < loss_1 < 100), \"loss must be a positive scalar\"\n",
    "assert torch.allclose(loss_1, loss_2), 'do not include  AFTER first EOS into loss. '\\\n",
    "    'Hint: use compute_mask. Beware +/-1 errors. And be careful when averaging!'"
   ]
  },
  {
   "cell_type": "markdown",
   "metadata": {},
   "source": [
    "### Evaluation\n",
    "\n",
    "You will need two functions: one to compute test loss and another to generate samples. For your convenience, we implemented them both in your stead."
   ]
  },
  {
   "cell_type": "code",
   "execution_count": 24,
   "metadata": {},
   "outputs": [],
   "source": [
    "def score_lines(model, dev_lines, batch_size):\n",
    "    \"\"\" computes average loss over the entire dataset \"\"\"\n",
    "    dev_loss_num, dev_loss_len = 0., 0.\n",
    "    with torch.no_grad():\n",
    "        for i in range(0, len(dev_lines), batch_size):\n",
    "            batch_ix = to_matrix(dev_lines[i: i + batch_size])\n",
    "            dev_loss_num += compute_loss(model, batch_ix).item() * len(batch_ix)\n",
    "            dev_loss_len += len(batch_ix)\n",
    "    return dev_loss_num / dev_loss_len\n",
    "\n",
    "def generate(model, prefix=BOS, temperature=1.0, max_len=100):\n",
    "    \"\"\"\n",
    "    Samples output sequence from probability distribution obtained by model\n",
    "    :param temperature: samples proportionally to model probabilities ^ temperature\n",
    "        if temperature == 0, always takes most likely token. Break ties arbitrarily.\n",
    "    \"\"\"\n",
    "    with torch.no_grad():\n",
    "        while True:\n",
    "            token_probs = model.get_possible_next_tokens(prefix)\n",
    "            tokens, probs = zip(*token_probs.items())\n",
    "            if temperature == 0:\n",
    "                next_token = tokens[np.argmax(probs)]\n",
    "            else:\n",
    "                probs = np.array([p ** (1. / temperature) for p in probs])\n",
    "                probs /= sum(probs)\n",
    "                next_token = np.random.choice(tokens, p=probs)\n",
    "\n",
    "            prefix += next_token\n",
    "            if next_token == EOS or len(prefix) > max_len: break\n",
    "    return prefix"
   ]
  },
  {
   "cell_type": "markdown",
   "metadata": {},
   "source": [
    "### Training loop\n",
    "\n",
    "Finally, let's train our model on minibatches of data"
   ]
  },
  {
   "cell_type": "code",
   "execution_count": 25,
   "metadata": {},
   "outputs": [
    {
     "name": "stdout",
     "output_type": "stream",
     "text": [
      "Sample before training: Bridging|=1X\"9[~#$ś$@ωfJÖSGG4:CõlgíÉ|ãRi>=$ärç5z>m{ω7äy_jv3αo#ã:γA]]8/xrf|iVλεTi:/náQő d|\n",
      "\n"
     ]
    }
   ],
   "source": [
    "from sklearn.model_selection import train_test_split\n",
    "train_lines, dev_lines = train_test_split(lines, test_size=0.25, random_state=42)\n",
    "\n",
    "batch_size = 256\n",
    "score_dev_every = 250\n",
    "train_history, dev_history = [], []\n",
    "model = FixedWindowLanguageModel()\n",
    "opt = torch.optim.Adam(model.parameters())\n",
    "\n",
    "# hint: if you ever wanted to switch to cuda, do it now.\n",
    "\n",
    "# score untrained model\n",
    "dev_history.append((0, score_lines(model, dev_lines, batch_size)))\n",
    "print(\"Sample before training:\", generate(model, 'Bridging'))"
   ]
  },
  {
   "cell_type": "code",
   "execution_count": 98,
   "metadata": {},
   "outputs": [
    {
     "data": {
      "image/png": "[encoded data removed]",
      "text/plain": [
       "<Figure size 640x480 with 1 Axes>"
      ]
     },
     "metadata": {},
     "output_type": "display_data"
    },
    {
     "name": "stdout",
     "output_type": "stream",
     "text": [
      "Generated examples (tau=0.5):\n",
      " Le riske botid ts andure thes she mation fion mone thare the terentrof ame ther propestr and destio \n",
      " Sofal ariont makn model naction the s Opestive tore ffre the engen the ser and of emangon bation ; I\n",
      " Ant anting ing se chmod and inge p Learel and of ame tor chare se the simalizition al bised be work \n",
      "Scoring dev...\n"
     ]
    },
    {
     "name": "stderr",
     "output_type": "stream",
     "text": [
      "100%|███████████████████████████████████████| 5000/5000 [30:59<00:00,  2.69it/s]"
     ]
    },
    {
     "name": "stdout",
     "output_type": "stream",
     "text": [
      "#4999 Dev loss: 2.190\n"
     ]
    },
    {
     "name": "stderr",
     "output_type": "stream",
     "text": [
      "\n"
     ]
    }
   ],
   "source": [
    "from IPython.display import clear_output\n",
    "from random import sample\n",
    "from tqdm import trange\n",
    "\n",
    "for i in trange(len(train_history), 5000):\n",
    "    batch = to_matrix(sample(train_lines, batch_size))\n",
    "    \n",
    "    \n",
    "    loss_i = compute_loss(model, batch)\n",
    "    \n",
    "    opt.zero_grad()\n",
    "    loss_i.backward()\n",
    "    opt.step()\n",
    "        \n",
    "    train_history.append((i, loss_i.item()))\n",
    "    \n",
    "    if (i + 1) % 50 == 0:\n",
    "        clear_output(True)\n",
    "        plt.scatter(*zip(*train_history), alpha=0.1, label='train_loss')\n",
    "        if len(dev_history):\n",
    "            plt.plot(*zip(*dev_history), color='red', label='dev_loss')\n",
    "        plt.legend(); plt.grid(); plt.show()\n",
    "        print(\"Generated examples (tau=0.5):\")\n",
    "        for _ in range(3):\n",
    "            print(generate(model, temperature=0.5))\n",
    "    \n",
    "    if (i + 1) % score_dev_every == 0:\n",
    "        print(\"Scoring dev...\")\n",
    "        dev_history.append((i, score_lines(model, dev_lines, batch_size)))\n",
    "        print('#%i Dev loss: %.3f' % dev_history[-1])\n"
   ]
  },
  {
   "cell_type": "code",
   "execution_count": 99,
   "metadata": {},
   "outputs": [
    {
     "name": "stdout",
     "output_type": "stream",
     "text": [
      "Final dev loss: 2.1898203352486214\n",
      " A Ancentint on whe roment onetr arcentwe co pres bes ase anded ne the serore For chas ba doraction i\n",
      " Seaplisica no phesention th In pron the poreancon se the sented fithe tha sent ane of am whio pare s\n",
      " Assins aperalized of entwor and ind and ion lateving comedelicitita duction the senton isith arilles\n",
      " Ancon ther porelenting ion the and exteres of conet on che on thas in alales (CNN) an suand sobjoct \n",
      " In the peoppriticonstion the antection the and inat of ration ing ores se cor the tha probas der mon\n",
      " Aralen thes bate tor stom seat in as ans and ion latwork the merely ty for thed th e perver are the \n",
      " De phes for ange sion and cens may on the serich ten com on as bol che on the seath explace probused\n",
      " Intrremantict al work tha n mont an robend ark of ar works with the ention ; We de cond corece tathe\n",
      " Ancancon taperon medsed on ancralization of concentition cos the the s of an withr ion and pontion s\n",
      " Crapornation are the s for the s and tha pontiche ang the s andere sente sutions mone de the se fon \n"
     ]
    }
   ],
   "source": [
    "assert np.mean(train_history[:10], axis=0)[1] > np.mean(train_history[-10:], axis=0)[1], \"The model didn't converge.\"\n",
    "print(\"Final dev loss:\", dev_history[-1][-1])\n",
    "\n",
    "for i in range(10):\n",
    "    print(generate(model, temperature=0.5))"
   ]
  },
  {
   "cell_type": "markdown",
   "metadata": {},
   "source": [
    "### RNN Language Models (10 points including training)\n",
    "\n",
    "Fixed-size architectures are reasonably good when capturing short-term dependencies, but their design prevents them from capturing any signal outside their window. We can mitigate this problem by using a __recurrent neural network__:\n",
    "\n",
    "$$ h_0 = \\vec 0 ; \\quad h_{t+1} = RNN(x_t, h_t) $$\n",
    "\n",
    "$$ p(x_t \\mid x_0, \\dots, x_{t-1}, \\theta) = dense_{softmax}(h_{t-1}) $$\n",
    "\n",
    "Such model processes one token at a time, left to right, and maintains a hidden state vector between them. Theoretically, it can learn arbitrarily long temporal dependencies given large enough hidden size.\n",
    "\n",
    "<img src='https://raw.githubusercontent.com/yandexdataschool/nlp_course/master/resources/rnn_lm.jpg' width=480px>"
   ]
  },
  {
   "cell_type": "code",
   "execution_count": 26,
   "metadata": {},
   "outputs": [],
   "source": [
    "class RNNLanguageModel(nn.Module):\n",
    "    def __init__(self, n_tokens=n_tokens, emb_size=16, hid_size=256):\n",
    "        super().__init__()\n",
    "        self.emb = nn.Embedding(n_tokens, emb_size)\n",
    "        self.lstm = nn.LSTM(input_size=emb_size, hidden_size=hid_size, num_layers=1, batch_first=True)\n",
    "        self.fc = nn.Linear(hid_size, n_tokens)\n",
    "\n",
    "    def __call__(self, input_ix):\n",
    "        x = self.emb(input_ix)  \n",
    "        x, _ = self.lstm(x)  \n",
    "        logits = self.fc(x) \n",
    "        return logits\n",
    "\n",
    "    def get_possible_next_tokens(self, prefix=BOS, temperature=1.0, max_len=100):\n",
    "        prefix_ix = torch.as_tensor(to_matrix([prefix]), dtype=torch.int64)\n",
    "        with torch.no_grad():\n",
    "            probs = torch.softmax(self(prefix_ix)[0, -1], dim=-1).cpu().numpy()  \n",
    "        return dict(zip(tokens, probs))\n",
    "\n",
    "        "
   ]
  },
  {
   "cell_type": "code",
   "execution_count": 27,
   "metadata": {},
   "outputs": [
    {
     "name": "stdout",
     "output_type": "stream",
     "text": [
      "Weights: (('emb.weight', Parameter containing:\n",
      "tensor([[-0.0240, -1.0993,  0.1615,  ...,  0.1557,  0.8936,  1.8368],\n",
      "        [ 1.6783, -1.4227,  1.0485,  ..., -0.0290,  1.0666,  0.1127],\n",
      "        [-0.3138, -0.4533,  0.0163,  ..., -0.3833, -0.7158, -0.4749],\n",
      "        ...,\n",
      "        [ 0.2807, -0.4542, -0.3820,  ...,  0.5855, -0.4627, -0.1527],\n",
      "        [-1.7710,  0.4188, -1.0808,  ..., -0.2809,  1.2485, -1.1911],\n",
      "        [ 0.5256, -0.4775, -1.5245,  ..., -1.7372, -0.3133, -0.4838]],\n",
      "       requires_grad=True)), ('conv.weight', Parameter containing:\n",
      "tensor([[[ 0.0648,  0.0302,  0.0519, -0.0494,  0.0203],\n",
      "         [-0.0862, -0.0223, -0.0383,  0.1068,  0.1101],\n",
      "         [-0.0437,  0.0471,  0.0028, -0.0445,  0.0474],\n",
      "         ...,\n",
      "         [ 0.0791, -0.0496, -0.0656, -0.0514,  0.0850],\n",
      "         [ 0.0715,  0.0744,  0.0926,  0.0079, -0.1024],\n",
      "         [ 0.0635, -0.1080,  0.0583, -0.0916,  0.1109]],\n",
      "\n",
      "        [[-0.0296, -0.0715, -0.0681, -0.0050,  0.1004],\n",
      "         [ 0.0653, -0.0821, -0.0746,  0.0787,  0.0048],\n",
      "         [ 0.0649,  0.0131,  0.0428, -0.0511,  0.1011],\n",
      "         ...,\n",
      "         [ 0.0885,  0.0039, -0.1003, -0.1014, -0.0954],\n",
      "         [-0.0637, -0.0176,  0.0367, -0.0449, -0.0453],\n",
      "         [ 0.1058, -0.0293, -0.0782,  0.0903,  0.0343]],\n",
      "\n",
      "        [[-0.1048,  0.0645,  0.0608, -0.0690,  0.0696],\n",
      "         [-0.0195,  0.0672, -0.0653,  0.0982, -0.0042],\n",
      "         [ 0.0567,  0.0417,  0.0518,  0.0885, -0.0595],\n",
      "         ...,\n",
      "         [ 0.0700, -0.0986,  0.0795,  0.0116, -0.0850],\n",
      "         [ 0.0125, -0.1089,  0.0616,  0.0261, -0.0308],\n",
      "         [ 0.0928,  0.0155,  0.0867, -0.0217,  0.0504]],\n",
      "\n",
      "        ...,\n",
      "\n",
      "        [[-0.0969,  0.1093, -0.0152, -0.1076, -0.0718],\n",
      "         [-0.0209,  0.0126,  0.0103,  0.0168, -0.0634],\n",
      "         [-0.0786, -0.0008, -0.0809, -0.1008,  0.0049],\n",
      "         ...,\n",
      "         [-0.0250,  0.0531,  0.0595,  0.0767, -0.0995],\n",
      "         [-0.1008, -0.0538,  0.0261, -0.0583,  0.0455],\n",
      "         [ 0.0088, -0.0931,  0.0259,  0.0319, -0.0824]],\n",
      "\n",
      "        [[ 0.0004, -0.0004,  0.0409,  0.0702,  0.0864],\n",
      "         [ 0.0757,  0.0983,  0.0076,  0.0419, -0.0043],\n",
      "         [ 0.0024,  0.0119,  0.0958,  0.0100, -0.0940],\n",
      "         ...,\n",
      "         [ 0.0556, -0.0498,  0.0084,  0.0066, -0.1038],\n",
      "         [ 0.0249,  0.0437,  0.0617,  0.1117,  0.0179],\n",
      "         [-0.0126, -0.0525, -0.0468,  0.1066, -0.0293]],\n",
      "\n",
      "        [[-0.0062, -0.0947,  0.0398,  0.1064, -0.1116],\n",
      "         [-0.0980,  0.0291, -0.0820,  0.0935, -0.0518],\n",
      "         [ 0.0074,  0.1038, -0.0114,  0.0203, -0.0015],\n",
      "         ...,\n",
      "         [ 0.0806, -0.0496, -0.0455, -0.1098,  0.0691],\n",
      "         [-0.0388, -0.0091, -0.1062,  0.0205, -0.0636],\n",
      "         [ 0.1010, -0.0637,  0.0033,  0.0664, -0.0366]]], requires_grad=True)), ('conv.bias', Parameter containing:\n",
      "tensor([-0.0238, -0.0215, -0.1099,  0.0599,  0.0397,  0.0660, -0.0002, -0.0908,\n",
      "        -0.1053, -0.0227,  0.0234,  0.0179,  0.0774,  0.0696, -0.0165,  0.0129,\n",
      "         0.0243, -0.1075,  0.1038, -0.1010, -0.0437, -0.0274,  0.0346,  0.0648,\n",
      "         0.0033,  0.0880, -0.0631,  0.0626,  0.0931,  0.0822,  0.0497, -0.1115,\n",
      "         0.0237,  0.1049,  0.0698, -0.0874, -0.0086,  0.1043, -0.0787, -0.0269,\n",
      "        -0.0717, -0.0868,  0.1109, -0.0891, -0.1094, -0.0122, -0.0681,  0.0353,\n",
      "         0.0713,  0.0325, -0.0735,  0.0056, -0.0882, -0.0710,  0.0910,  0.0497,\n",
      "         0.0693, -0.1081,  0.0846, -0.0602,  0.0860,  0.0124,  0.0522,  0.0475],\n",
      "       requires_grad=True)), ('fc.weight', Parameter containing:\n",
      "tensor([[ 0.0703,  0.0935,  0.0638,  ..., -0.0800,  0.0181, -0.0376],\n",
      "        [ 0.0238,  0.1129, -0.0806,  ...,  0.0485, -0.0209, -0.0219],\n",
      "        [ 0.0077,  0.0273, -0.0803,  ..., -0.0373, -0.0945, -0.0562],\n",
      "        ...,\n",
      "        [-0.0846,  0.0142, -0.0691,  ...,  0.0220, -0.0959, -0.1150],\n",
      "        [ 0.0573, -0.1245, -0.1097,  ..., -0.1161, -0.0698,  0.0124],\n",
      "        [-0.1122, -0.0354, -0.1204,  ..., -0.0207,  0.0342, -0.1049]],\n",
      "       requires_grad=True)), ('fc.bias', Parameter containing:\n",
      "tensor([ 0.0780, -0.0783, -0.0236, -0.0681, -0.0918, -0.0271, -0.0579,  0.0169,\n",
      "        -0.0820, -0.0721,  0.0811, -0.0567,  0.0800,  0.0204, -0.0924, -0.0021,\n",
      "        -0.0005,  0.0379, -0.0505, -0.0882, -0.0088, -0.0929, -0.0231, -0.0250,\n",
      "         0.1184,  0.0994, -0.0848,  0.1162, -0.0906,  0.1075, -0.0920,  0.1140,\n",
      "         0.0895,  0.0858,  0.0401,  0.1197, -0.0548,  0.1062,  0.1227, -0.0853,\n",
      "        -0.0206, -0.1151,  0.0467,  0.0006,  0.0629, -0.0770,  0.0320,  0.0153,\n",
      "         0.0239, -0.0431,  0.0898, -0.0154,  0.0394, -0.0709,  0.0169,  0.0834,\n",
      "        -0.0504, -0.0030, -0.0720,  0.0857,  0.0458,  0.0311, -0.0527,  0.0542,\n",
      "         0.0198,  0.0574, -0.0992,  0.0980, -0.1031,  0.0476, -0.0363, -0.0698,\n",
      "         0.0707, -0.0274, -0.0185,  0.0332,  0.0639, -0.1038, -0.0230, -0.1141,\n",
      "        -0.0171, -0.1232, -0.0178, -0.1010, -0.0496,  0.1191,  0.0235,  0.0860,\n",
      "         0.0424, -0.0283,  0.0245, -0.0887,  0.0643,  0.0141, -0.0494,  0.0099,\n",
      "         0.0494, -0.0637,  0.0258,  0.1171, -0.0083, -0.1046, -0.0622,  0.1149,\n",
      "        -0.0666, -0.0849, -0.0160,  0.0933,  0.1091, -0.1169,  0.1113, -0.1114,\n",
      "        -0.1015, -0.0321, -0.1237,  0.1076, -0.0480, -0.0528, -0.0733,  0.0438,\n",
      "        -0.0174, -0.1065,  0.0515,  0.0484,  0.0214,  0.0988, -0.0964, -0.0417,\n",
      "        -0.0807, -0.0956,  0.0965, -0.0153, -0.0494,  0.0713, -0.0567, -0.0335],\n",
      "       requires_grad=True)))\n"
     ]
    }
   ],
   "source": [
    "model = RNNLanguageModel()\n",
    "\n",
    "dummy_input_ix = torch.as_tensor(to_matrix(dummy_lines))\n",
    "dummy_logits = model(dummy_input_ix)\n",
    "\n",
    "assert isinstance(dummy_logits, torch.Tensor)\n",
    "assert dummy_logits.shape == (len(dummy_lines), max(map(len, dummy_lines)), n_tokens), \"please check output shape\"\n",
    "assert not np.allclose(dummy_logits.cpu().data.numpy().sum(-1), 1), \"please predict linear outputs, don't use softmax (maybe you've just got unlucky)\"\n",
    "print(\"Weights:\", tuple((name, w) for name, w in dummy_model.named_parameters()))"
   ]
  },
  {
   "cell_type": "code",
   "execution_count": 28,
   "metadata": {},
   "outputs": [],
   "source": [
    "# test for lookahead\n",
    "dummy_input_ix_2 = torch.as_tensor(to_matrix([line[:3] + 'e' * (len(line) - 3) for line in dummy_lines]))\n",
    "dummy_logits_2 = model(dummy_input_ix_2)\n",
    "\n",
    "assert torch.allclose(dummy_logits[:, :3], dummy_logits_2[:, :3]), \"your model's predictions depend on FUTURE tokens. \" \\\n",
    "    \" Make sure you don't allow any layers to look ahead of current token.\" \\\n",
    "    \" You can also get this error if your model is not deterministic (e.g. dropout). Disable it for this test.\""
   ]
  },
  {
   "cell_type": "markdown",
   "metadata": {},
   "source": [
    "### RNN training\n",
    "\n",
    "Our RNN language model should optimize the same loss function as fixed-window model. But there's a catch. Since RNN recurrently multiplies gradients through many time-steps, gradient values may explode, [ruining](https://raw.githubusercontent.com/yandexdataschool/nlp_course/master/resources/nan.jpg) your model.\n",
    "The common solution to that problem is to clip gradients either [individually](https://www.tensorflow.org/versions/r2.0/api_docs/python/tf/clip_by_value) or [globally](https://www.tensorflow.org/versions/r2.0/api_docs/python/tf/clip_by_global_norm).\n",
    "\n",
    "Your task here is to implement the training code that minimizes the loss function. If you encounter large loss fluctuations during training, please add [gradient clipping](https://pytorch.org/docs/stable/generated/torch.nn.utils.clip_grad_norm_.html) using urls above. But its **not necessary** to use gradient clipping if you don't need it.\n",
    "\n",
    "_Note: gradient clipping is not exclusive to RNNs. Convolutional networks with enough depth often suffer from the same issue._"
   ]
  },
  {
   "cell_type": "code",
   "execution_count": 29,
   "metadata": {},
   "outputs": [
    {
     "name": "stdout",
     "output_type": "stream",
     "text": [
      "Sample before training: Bridging0$}γAWBiRyFp\"Łè5[εä\\RaőIç)σ^dü( $odA>p°PDpśΩ\n",
      "\n"
     ]
    }
   ],
   "source": [
    "batch_size = 64         # <-- please tune batch size to fit your CPU/GPU configuration\n",
    "score_dev_every = 250\n",
    "train_history, dev_history = [], []\n",
    "\n",
    "model = RNNLanguageModel()\n",
    "opt = torch.optim.Adam(model.parameters())\n",
    "\n",
    "# score untrained model\n",
    "dev_history.append((0, score_lines(model, dev_lines, batch_size)))\n",
    "print(\"Sample before training:\", generate(model, 'Bridging'))"
   ]
  },
  {
   "cell_type": "code",
   "execution_count": 30,
   "metadata": {},
   "outputs": [
    {
     "data": {
      "image/png": "[encoded data removed]",
      "text/plain": [
       "<Figure size 640x480 with 1 Axes>"
      ]
     },
     "metadata": {},
     "output_type": "display_data"
    },
    {
     "name": "stdout",
     "output_type": "stream",
     "text": [
      "Generated examples (tau=0.5):\n",
      " Machine Search for Solution of Scale Text Complete Sparse Models ; Deep neural networks to inference\n",
      " A Self-organization of Semi-Supervised Learning ; In this paper, we propose a new human problems, an\n",
      " Recurrent Neural Networks for Bayesian Embedding ; We present a highly approach for the problem of t\n",
      "Scoring dev...\n"
     ]
    },
    {
     "name": "stderr",
     "output_type": "stream",
     "text": [
      "100%|█████████████████████████████████████| 5000/5000 [1:00:47<00:00,  1.37it/s]"
     ]
    },
    {
     "name": "stdout",
     "output_type": "stream",
     "text": [
      "#4999 Dev loss: 1.119\n"
     ]
    },
    {
     "name": "stderr",
     "output_type": "stream",
     "text": [
      "\n"
     ]
    }
   ],
   "source": [
    "from IPython.display import clear_output\n",
    "from random import sample\n",
    "from tqdm import trange\n",
    "\n",
    "for i in trange(len(train_history), 5000):\n",
    "    batch = to_matrix(sample(train_lines, batch_size))\n",
    "    loss_i = compute_loss(model, batch)\n",
    "    opt.zero_grad()\n",
    "    loss_i.backward()\n",
    "    torch.nn.utils.clip_grad_norm_(model.parameters(), max_norm=5.0) \n",
    "    opt.step()\n",
    "    train_history.append((i, float(loss_i)))\n",
    "    if (i + 1) % 50 == 0:\n",
    "        clear_output(True)\n",
    "        plt.scatter(*zip(*train_history), alpha=0.1, label='train_loss')\n",
    "        if len(dev_history):\n",
    "            plt.plot(*zip(*dev_history), color='red', label='dev_loss')\n",
    "        plt.legend(); plt.grid(); plt.show()\n",
    "        print(\"Generated examples (tau=0.5):\")\n",
    "        for _ in range(3):\n",
    "            print(generate(model, temperature=0.5))\n",
    "    if (i + 1) % score_dev_every == 0:\n",
    "        print(\"Scoring dev...\")\n",
    "        dev_history.append((i, score_lines(model, dev_lines, batch_size)))\n",
    "        print('#%i Dev loss: %.3f' % dev_history[-1])"
   ]
  },
  {
   "cell_type": "code",
   "execution_count": 31,
   "metadata": {},
   "outputs": [
    {
     "name": "stdout",
     "output_type": "stream",
     "text": [
      "Final dev loss: 1.1190687097689\n",
      " Learning Multi-Analysis of Convolutional Neural Networks ; The method for long systems are constrain\n",
      " Self-Efficient Topics with Deep Real-time Approach for Selection ; Accurate model for the segmentati\n",
      " A Multi-Recognition and Evaluation for Segmentation ; The problem of exploiting memory selection bet\n",
      " A Complex Large Bayesian Models for Control Sensor Detection ; We present a simple framework for exp\n",
      " Market for Risk Semantic Problems ; In this paper we present a new classifier in a proper to the pro\n",
      " Semantic Entropy Problems and Resolution of Automatic Planning ; The object classifier is interpreta\n",
      " Simple Synthetic Level Reduction ; This paper presents a new standard problem of a set of optimal fo\n",
      " Indexing Solution for Classifiers ; The proposed translation of the literature in order to make the \n",
      " Deep Learning and Resolution of Structure of Automatic Model for Learning ; The empirical results an\n",
      " Semantically Adversarial Networks ; In this paper, we exploit the each of the problem of probability\n"
     ]
    }
   ],
   "source": [
    "assert np.mean(train_history[:10], axis=0)[1] > np.mean(train_history[-10:], axis=0)[1], \"The model didn't converge.\"\n",
    "print(\"Final dev loss:\", dev_history[-1][-1])\n",
    "for i in range(10):\n",
    "    print(generate(model, temperature=0.5))"
   ]
  },
  {
   "cell_type": "markdown",
   "metadata": {},
   "source": [
    "### Alternative sampling strategies (2 point)\n",
    "\n",
    "So far we've sampled tokens from the model in proportion with their probability.\n",
    "However, this approach can sometimes generate nonsense words due to the fact that softmax probabilities of these words are never exactly zero. This issue can be somewhat mitigated with sampling temperature, but low temperature harms sampling diversity. Can we remove the nonsense words without sacrificing diversity? __Yes, we can!__ But it takes a different sampling strategy.\n",
    "\n",
    "__Top-k sampling:__ on each step, sample the next token from __k most likely__ candidates from the language model.\n",
    "\n",
    "Suppose $k=3$ and the token probabilities are $p=[0.1, 0.35, 0.05, 0.2, 0.3]$. You first need to select $k$ most likely words and set the probability of the rest to zero: $\\hat p=[0.0, 0.35, 0.0, 0.2, 0.3]$ and re-normalize: \n",
    "$p^*\\approx[0.0, 0.412, 0.0, 0.235, 0.353]$.\n",
    "\n",
    "__Nucleus sampling:__ similar to top-k sampling, but this time we select $k$ dynamically. In nucleus sampling, we sample from top-__N%__ fraction of the probability mass.\n",
    "\n",
    "Using the same  $p=[0.1, 0.35, 0.05, 0.2, 0.3]$ and nucleus N=0.9, the nucleus words consist of:\n",
    "1. most likely token $w_2$, because $p(w_2) < N$\n",
    "2. second most likely token $w_5$, $p(w_2) + p(w_5) = 0.65 < N$\n",
    "3. third most likely token $w_4$ because $p(w_2) + p(w_5) + p(w_4) = 0.85 < N$\n",
    "\n",
    "And thats it, because the next most likely word would overflow: $p(w_2) + p(w_5) + p(w_4) + p(w_1) = 0.95 > N$.\n",
    "\n",
    "After you've selected the nucleus words, you need to re-normalize them as in top-k sampling and generate the next token.\n",
    "\n",
    "__Your task__ is to implement nucleus sampling variant and see if it is any good."
   ]
  },
  {
   "cell_type": "code",
   "execution_count": 32,
   "metadata": {},
   "outputs": [],
   "source": [
    "def generate_nucleus(model, prefix=BOS, nucleus=0.9, max_len=100):\n",
    "    while True:\n",
    "        token_probs = model.get_possible_next_tokens(prefix)\n",
    "        tokens, probs = zip(*token_probs.items())\n",
    "        sorted_indices = np.argsort(probs)[::-1]  \n",
    "        sorted_probs = np.array(probs)[sorted_indices]\n",
    "        sorted_tokens = np.array(tokens)[sorted_indices]\n",
    "        cumulative_probs = np.cumsum(sorted_probs)\n",
    "        nucleus_mask = cumulative_probs <= nucleus\n",
    "        nucleus_mask[0] = True  \n",
    "        nucleus_tokens = sorted_tokens[nucleus_mask]\n",
    "        nucleus_probs = sorted_probs[nucleus_mask]\n",
    "        nucleus_probs /= nucleus_probs.sum()\n",
    "        next_token = np.random.choice(nucleus_tokens, p=nucleus_probs)\n",
    "        prefix += next_token\n",
    "        if next_token == EOS or len(prefix) > max_len: \n",
    "            break\n",
    "    \n",
    "    return prefix"
   ]
  },
  {
   "cell_type": "code",
   "execution_count": 34,
   "metadata": {},
   "outputs": [
    {
     "name": "stdout",
     "output_type": "stream",
     "text": [
      " Improvement of a testing mathematical space of algorithm for   method is a proven table an image new\n",
      " Using Douning Model Convolutional Neural Media for Study ; Efficient transcribuation of learning for\n",
      " Eatelly Challenging Astist and Complex Neural   Stage Magnetic Pregists Using Deep Learning ; Object\n",
      " Sparse Cardo on Bayesian Patient Detection and Interpretable End-to-Pargur A Generative Sparse Analy\n",
      " Classification projeinning in version via the the algorithm of training data for general challenges \n",
      " Diversity for Multi-Deep Clusters of Optimization ; In this paper, we propose in the approximation o\n",
      " How the Elements for Large Method for Learning System ; Each traditional models with which can be us\n",
      " Recently Adaptation for Information the Task   Real-time Local   Vision Based ; Each inspired on a m\n",
      " To Neural Networks for Intelligence ; Archised asymmetric sparse regression and in based on scale li\n",
      " Discapes and an Acoust Of Present Learning ; We present the present and multiple learning set with t\n"
     ]
    }
   ],
   "source": [
    "for i in range(10):\n",
    "     print(generate_nucleus(model, nucleus=0.95))"
   ]
  },
  {
   "cell_type": "code",
   "execution_count": 35,
   "metadata": {},
   "outputs": [
    {
     "name": "stdout",
     "output_type": "stream",
     "text": [
      " Deep Residual Networks for Interpretable Analysis ; The state of the interaction and interactions of\n",
      " Deep Learning of Learning with Statistical   Segmentation ; In this paper, we propose a new approach\n",
      " The Distribution of Statistical Models for Prediction ; In this paper, we propose a new problem of a\n",
      " Exploiting Multi-State Problems for Automatic Research ; In this paper, we propose a new data for en\n",
      " Learning with Adaptive Search in   Interaction of Interpretable ; The experimental regression method\n",
      " A Bayesian networks for deep learning and the detection ; The problem of a machine learning to encod\n",
      " Learning and Statistical Semantic Programming for Markov Regression ; In this paper, we propose a ne\n",
      " A Convolutional Neural Networks for Action Method for Statistical   Problem ; The problem of semanti\n",
      " Statistical Learning and Active Convolutional Neural Networks ; We present a new data in a semantic \n",
      " Statistical Model of Semantic Regression ; The problem of a simple constraint and a simple and a sim\n"
     ]
    }
   ],
   "source": [
    "for i in range(10):\n",
    "     print(generate_nucleus(model, nucleus=0.55))"
   ]
  },
  {
   "cell_type": "code",
   "execution_count": 36,
   "metadata": {},
   "outputs": [
    {
     "name": "stdout",
     "output_type": "stream",
     "text": [
      " Describefia Predictors: Out Data Plang ; We present a problems with item interactions from science t\n",
      " Semantic Rotating or Two-Pot and While a Deep Neural Networks ; Using Residual Interval components a\n",
      " A Deep Learning ; Various search and image in the type classification of entity models with neural m\n",
      " Database Active   Consider Space and Classification Brain Equation Approach lows ; Deep various colo\n",
      " Multi-Generative Resolutions of Ligi-Ort and Vitries Single   Learning with Deep Neural   Camera Exo\n",
      " Sentences and learning of the evaluate nonlinear application ; We address the key is crossline class\n",
      " Real-Based Fourx With Computing Multisligh Chinds ; Algorithm is an igseling, has inteligent only ex\n",
      " Bolable Compositional Artificial Practical Feature Pierative   Sparsi ; Conjinuoulies matimising are\n",
      " Fusion Techniques of with Annotating for This Quadradity face Complexity ; We present a natural cons\n",
      " A Comporlation Restation of Selvers for Uplan Information ; Visual   deep understed epasis has been \n"
     ]
    }
   ],
   "source": [
    "for i in range(10):\n",
    "     print(generate_nucleus(model, nucleus=0.99))"
   ]
  },
  {
   "cell_type": "markdown",
   "metadata": {},
   "source": [
    "### Beam Search (2 pts incl. samples)\n",
    "\n",
    "At times, you don't really want the model to generate diverse outputs as much as you want a __single most likely hypothesis.__ A single best translation, most likely continuation of the search query given prefix, etc. Except, you can't get it. \n",
    "\n",
    "In order to find the exact most likely sequence containing 10 tokens, you would need to enumerate all $|V|^{10}$ possible hypotheses. In practice, 9 times out of 10 you will instead find an approximate most likely output using __beam search__.\n",
    "\n",
    "Here's how it works:\n",
    "0. Initial `beam` = [prefix], max beam_size = k\n",
    "1. for T steps:\n",
    "2. ` ... ` generate all possible next tokens for all hypotheses in beam, formulate `len(beam) * len(vocab)` candidates\n",
    "3. ` ... ` select beam_size best for all candidates as new `beam`\n",
    "4. Select best hypothesis (-es?) from beam"
   ]
  },
  {
   "cell_type": "code",
   "execution_count": 37,
   "metadata": {},
   "outputs": [
    {
     "name": "stdout",
     "output_type": "stream",
     "text": [
      "zsh:1: command not found: wget\n"
     ]
    },
    {
     "data": {
      "text/html": [
       "beam_search.html"
      ],
      "text/plain": [
       "<IPython.core.display.HTML object>"
      ]
     },
     "execution_count": 37,
     "metadata": {},
     "output_type": "execute_result"
    }
   ],
   "source": [
    "from IPython.display import HTML\n",
    "# Here's what it looks like:\n",
    "!wget -q https://raw.githubusercontent.com/yandexdataschool/nlp_course/2020/resources/beam_search.html\n",
    "HTML(\"beam_search.html\")"
   ]
  },
  {
   "cell_type": "code",
   "execution_count": 38,
   "metadata": {},
   "outputs": [],
   "source": [
    "def generate_beamsearch(model, prefix=BOS, beam_size=4, length=5):\n",
    "    beam = [(prefix, 0.0)]  \n",
    "    for _ in range(length):\n",
    "        all_candidates = []\n",
    "        \n",
    "        for seq, log_prob in beam:\n",
    "            token_probs = model.get_possible_next_tokens(seq)\n",
    "            tokens, probs = zip(*token_probs.items())\n",
    "            log_probs = np.log(probs)  \n",
    "            for token, log_p in zip(tokens, log_probs):\n",
    "                new_seq = seq + token\n",
    "                new_log_prob = log_prob + log_p\n",
    "                all_candidates.append((new_seq, new_log_prob))\n",
    "        all_candidates = sorted(all_candidates, key=lambda x: x[1], reverse=True)  \n",
    "        beam = all_candidates[:beam_size]  \n",
    "    return beam\n"
   ]
  },
  {
   "cell_type": "code",
   "execution_count": 39,
   "metadata": {},
   "outputs": [
    {
     "data": {
      "text/plain": [
       "[(' deep learn', -2.603086717426777),\n",
       " (' deep Learn', -2.794778657145798),\n",
       " (' deep Convo', -4.606813907623291),\n",
       " (' deep Resol', -5.721109073609114)]"
      ]
     },
     "execution_count": 39,
     "metadata": {},
     "output_type": "execute_result"
    }
   ],
   "source": [
    "generate_beamsearch(model, prefix=' deep ', beam_size=4)"
   ]
  },
  {
   "cell_type": "code",
   "execution_count": 2,
   "metadata": {
    "scrolled": true
   },
   "outputs": [],
   "source": [
    "# check it out: which beam size works best?\n",
    "# find at least 5 prefixes where beam_size=1 and 8 generates different sequences"
   ]
  },
  {
   "cell_type": "code",
   "execution_count": 40,
   "metadata": {},
   "outputs": [
    {
     "name": "stdout",
     "output_type": "stream",
     "text": [
      "Prefix:  deep \n",
      "Beam size = 1: [(' deep Learn', -2.794778657145798)]\n",
      "Beam size = 8: [(' deep learn', -2.603086717426777), (' deep Learn', -2.794778657145798), (' deep Neura', -3.7810460217297077), (' deep Convo', -4.606813907623291), (' deep level', -5.114699512720108), (' deep Resol', -5.721109073609114), (' deep lever', -6.063628375530243), (' deep Conve', -6.191857725381851)]\n",
      "------------------------------\n",
      "Prefix:  learning \n",
      "Beam size = 1: [(' learning and t', -5.012146866880357)]\n",
      "Beam size = 8: [(' learning algor', -3.6842908612452447), (' learning with ', -3.749668779782951), (' learning of th', -4.93508118391037), (' learning in th', -4.973548278212547), (' learning and t', -5.012146866880357), (' learning that ', -5.042885273694992), (' learning and a', -5.263251221738756), (' learning and s', -5.266310608945787)]\n",
      "------------------------------\n",
      "Prefix:  artificial \n",
      "Beam size = 1: [(' artificial Analy', -5.048669010400772)]\n",
      "Beam size = 8: [(' artificial Learn', -3.1896857148967683), (' artificial Netwo', -3.2491684772539884), (' artificial Neura', -3.6427158061414957), (' artificial Inter', -4.482754610478878), (' artificial Intel', -4.6803844794631), (' artificial Infor', -4.690589950419962), (' artificial Infer', -4.828425431624055), (' artificial Langu', -5.080377131700516)]\n",
      "------------------------------\n",
      "Prefix:  natural \n",
      "Beam size = 1: [(' natural langu', -2.595834879204631)]\n",
      "Beam size = 8: [(' natural langu', -2.595834879204631), (' natural learn', -4.157011622097343), (' natural image', -4.35737720457837), (' natural label', -4.681181315332651), (' natural infor', -4.728117773775011), (' natural Langu', -5.2988512217998505), (' natural logic', -5.439184054732323), (' natural imagi', -6.073381635826081)]\n",
      "------------------------------\n",
      "Prefix:  language \n",
      "Beam size = 1: [(' language and t', -5.363364128395915)]\n",
      "Beam size = 8: [(' language model', -3.9029169641435146), (' language of th', -4.422296699136496), (' language analy', -4.562566488981247), (' language proce', -4.600360562093556), (' language probl', -5.26256787776947), (' language and t', -5.363364128395915), (' language and s', -5.3979345839470625), (' language and a', -5.412346987053752)]\n",
      "------------------------------\n"
     ]
    }
   ],
   "source": [
    "prefixes = [' deep ', ' learning ', ' artificial ', ' natural ', ' language ']\n",
    "for prefix in prefixes:\n",
    "    print(f\"Prefix: {prefix}\")\n",
    "    print(\"Beam size = 1:\", generate_beamsearch(model, prefix=prefix, beam_size=1, length=5))\n",
    "    print(\"Beam size = 8:\", generate_beamsearch(model, prefix=prefix, beam_size=8, length=5))\n",
    "    print(\"-\" * 30)"
   ]
  },
  {
   "cell_type": "code",
   "execution_count": null,
   "metadata": {},
   "outputs": [],
   "source": []
  }
 ],
 "metadata": {
  "kernelspec": {
   "display_name": "Python [conda env:base] *",
   "language": "python",
   "name": "conda-base-py"
  },
  "language_info": {
   "codemirror_mode": {
    "name": "ipython",
    "version": 3
   },
   "file_extension": ".py",
   "mimetype": "text/x-python",
   "name": "python",
   "nbconvert_exporter": "python",
   "pygments_lexer": "ipython3",
   "version": "3.12.7"
  }
 },
 "nbformat": 4,
 "nbformat_minor": 4
}
